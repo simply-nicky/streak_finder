{
 "cells": [
  {
   "cell_type": "code",
   "execution_count": null,
   "metadata": {},
   "outputs": [],
   "source": [
    "import numpy as np\n",
    "import matplotlib.pyplot as plt\n",
    "from copy import deepcopy\n",
    "from streak_finder import Pattern\n",
    "from streak_finder.src import Structure, draw_line_image, Peaks\n",
    "from tests.test_streak_finder import generate_image"
   ]
  },
  {
   "cell_type": "code",
   "execution_count": null,
   "metadata": {},
   "outputs": [],
   "source": [
    "def generate_image(Y: int, X: int, n_lines: int, length: float, width: float) -> np.ndarray:\n",
    "    lengths = length * np.random.rand(n_lines)\n",
    "    thetas = 2 * np.pi * np.random.rand(n_lines)\n",
    "    x0, y0 = np.array([[X], [Y]]) * np.random.rand(2, n_lines)\n",
    "    lines = np.stack((x0 - 0.5 * lengths * np.cos(thetas),\n",
    "                      y0 - 0.5 * lengths * np.sin(thetas),\n",
    "                      x0 + 0.5 * lengths * np.cos(thetas),\n",
    "                      y0 + 0.5 * lengths * np.sin(thetas),\n",
    "                      width * np.ones(n_lines)), axis=1)\n",
    "    return draw_line_image(lines, (Y, X), kernel='gaussian')"
   ]
  },
  {
   "cell_type": "code",
   "execution_count": null,
   "metadata": {},
   "outputs": [],
   "source": [
    "struct = Structure(radius=3, rank=3)\n",
    "data = np.load('image.npy')\n",
    "# data = generate_image(50, 50, 10, 20, 3)\n",
    "mask = np.ones(data.shape, dtype=bool)\n",
    "pattern = Pattern(data, mask, struct)"
   ]
  },
  {
   "cell_type": "code",
   "execution_count": null,
   "metadata": {},
   "outputs": [],
   "source": [
    "peaks = pattern.find_peaks(vmin=0.2, npts=5)"
   ]
  },
  {
   "cell_type": "code",
   "execution_count": null,
   "metadata": {},
   "outputs": [],
   "source": [
    "%matplotlib widget\n",
    "fig, ax = plt.subplots(figsize=(6, 6))\n",
    "ax.imshow(pattern.data)\n",
    "ax.scatter(peaks.x, peaks.y)\n",
    "\n",
    "fig.tight_layout()\n",
    "plt.show()"
   ]
  },
  {
   "cell_type": "code",
   "execution_count": null,
   "metadata": {},
   "outputs": [],
   "source": [
    "lines = pattern.find_streaks(peaks, vmin=0.2, xtol=1.8, min_size=1, log_eps=0.0)"
   ]
  },
  {
   "cell_type": "code",
   "execution_count": null,
   "metadata": {},
   "outputs": [],
   "source": [
    "%matplotlib widget\n",
    "fig, ax = plt.subplots(figsize=(6, 6))\n",
    "ax.imshow(pattern.data)\n",
    "for line in lines:\n",
    "    ax.plot(line[::2], line[1::2], c='r')\n",
    "\n",
    "ax.set_xlim(0, pattern.shape[1])\n",
    "ax.set_ylim(pattern.shape[0], 0)\n",
    "fig.tight_layout()\n",
    "plt.show()"
   ]
  }
 ],
 "metadata": {
  "kernelspec": {
   "display_name": "streak_finder",
   "language": "python",
   "name": "python3"
  },
  "language_info": {
   "codemirror_mode": {
    "name": "ipython",
    "version": 3
   },
   "file_extension": ".py",
   "mimetype": "text/x-python",
   "name": "python",
   "nbconvert_exporter": "python",
   "pygments_lexer": "ipython3"
  }
 },
 "nbformat": 4,
 "nbformat_minor": 2
}
